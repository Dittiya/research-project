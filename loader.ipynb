{
 "cells": [
  {
   "cell_type": "code",
   "execution_count": 15,
   "metadata": {},
   "outputs": [],
   "source": [
    "# Data Loader from emission data summary\n",
    "import pandas as pd\n",
    "import numpy as np"
   ]
  },
  {
   "cell_type": "code",
   "execution_count": 13,
   "metadata": {},
   "outputs": [],
   "source": [
    "DATASET_DIR = \"dataset/ghg/Summary-emissions-data-Excel-xlsx.xlsx\"\n",
    "\n",
    "df_sectors = pd.read_excel(\n",
    "    DATASET_DIR,\n",
    "    header=1\n",
    "    )\n",
    "\n",
    "df_gas = pd.read_excel(\n",
    "    DATASET_DIR,\n",
    "    sheet_name=1,\n",
    "    header=1\n",
    ")"
   ]
  }
 ],
 "metadata": {
  "kernelspec": {
   "display_name": "Python 3",
   "language": "python",
   "name": "python3"
  },
  "language_info": {
   "codemirror_mode": {
    "name": "ipython",
    "version": 3
   },
   "file_extension": ".py",
   "mimetype": "text/x-python",
   "name": "python",
   "nbconvert_exporter": "python",
   "pygments_lexer": "ipython3",
   "version": "3.10.13"
  }
 },
 "nbformat": 4,
 "nbformat_minor": 2
}
